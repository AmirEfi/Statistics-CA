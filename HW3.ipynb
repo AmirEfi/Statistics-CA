{
 "cells": [
  {
   "cell_type": "markdown",
   "id": "9608a5e0",
   "metadata": {},
   "source": [
    "# HW3"
   ]
  },
  {
   "cell_type": "code",
   "execution_count": 19,
   "id": "4ee7041b",
   "metadata": {},
   "outputs": [],
   "source": [
    "import numpy as np\n",
    "import pandas as pd\n",
    "import matplotlib.pyplot as plt\n",
    "import scipy.stats\n",
    "import statistics\n",
    "from math import sqrt"
   ]
  },
  {
   "cell_type": "code",
   "execution_count": 20,
   "id": "5e87c6c9",
   "metadata": {},
   "outputs": [
    {
     "data": {
      "text/html": [
       "<div>\n",
       "<style scoped>\n",
       "    .dataframe tbody tr th:only-of-type {\n",
       "        vertical-align: middle;\n",
       "    }\n",
       "\n",
       "    .dataframe tbody tr th {\n",
       "        vertical-align: top;\n",
       "    }\n",
       "\n",
       "    .dataframe thead th {\n",
       "        text-align: right;\n",
       "    }\n",
       "</style>\n",
       "<table border=\"1\" class=\"dataframe\">\n",
       "  <thead>\n",
       "    <tr style=\"text-align: right;\">\n",
       "      <th></th>\n",
       "      <th>minority</th>\n",
       "      <th>age</th>\n",
       "      <th>gender</th>\n",
       "      <th>credits</th>\n",
       "      <th>beauty</th>\n",
       "      <th>eval</th>\n",
       "      <th>division</th>\n",
       "      <th>native</th>\n",
       "      <th>tenure</th>\n",
       "      <th>students</th>\n",
       "      <th>allstudents</th>\n",
       "      <th>prof</th>\n",
       "      <th>PrimaryLast</th>\n",
       "      <th>vismin</th>\n",
       "      <th>female</th>\n",
       "      <th>single_credit</th>\n",
       "      <th>upper_division</th>\n",
       "      <th>English_speaker</th>\n",
       "      <th>tenured_prof</th>\n",
       "    </tr>\n",
       "  </thead>\n",
       "  <tbody>\n",
       "    <tr>\n",
       "      <th>0</th>\n",
       "      <td>yes</td>\n",
       "      <td>36</td>\n",
       "      <td>female</td>\n",
       "      <td>more</td>\n",
       "      <td>0.289916</td>\n",
       "      <td>4.3</td>\n",
       "      <td>upper</td>\n",
       "      <td>yes</td>\n",
       "      <td>yes</td>\n",
       "      <td>24</td>\n",
       "      <td>43</td>\n",
       "      <td>1</td>\n",
       "      <td>0</td>\n",
       "      <td>1</td>\n",
       "      <td>1</td>\n",
       "      <td>0</td>\n",
       "      <td>1</td>\n",
       "      <td>1</td>\n",
       "      <td>1</td>\n",
       "    </tr>\n",
       "    <tr>\n",
       "      <th>1</th>\n",
       "      <td>yes</td>\n",
       "      <td>36</td>\n",
       "      <td>female</td>\n",
       "      <td>more</td>\n",
       "      <td>0.289916</td>\n",
       "      <td>3.7</td>\n",
       "      <td>upper</td>\n",
       "      <td>yes</td>\n",
       "      <td>yes</td>\n",
       "      <td>86</td>\n",
       "      <td>125</td>\n",
       "      <td>1</td>\n",
       "      <td>0</td>\n",
       "      <td>1</td>\n",
       "      <td>1</td>\n",
       "      <td>0</td>\n",
       "      <td>1</td>\n",
       "      <td>1</td>\n",
       "      <td>1</td>\n",
       "    </tr>\n",
       "    <tr>\n",
       "      <th>2</th>\n",
       "      <td>yes</td>\n",
       "      <td>36</td>\n",
       "      <td>female</td>\n",
       "      <td>more</td>\n",
       "      <td>0.289916</td>\n",
       "      <td>3.6</td>\n",
       "      <td>upper</td>\n",
       "      <td>yes</td>\n",
       "      <td>yes</td>\n",
       "      <td>76</td>\n",
       "      <td>125</td>\n",
       "      <td>1</td>\n",
       "      <td>0</td>\n",
       "      <td>1</td>\n",
       "      <td>1</td>\n",
       "      <td>0</td>\n",
       "      <td>1</td>\n",
       "      <td>1</td>\n",
       "      <td>1</td>\n",
       "    </tr>\n",
       "    <tr>\n",
       "      <th>3</th>\n",
       "      <td>yes</td>\n",
       "      <td>36</td>\n",
       "      <td>female</td>\n",
       "      <td>more</td>\n",
       "      <td>0.289916</td>\n",
       "      <td>4.4</td>\n",
       "      <td>upper</td>\n",
       "      <td>yes</td>\n",
       "      <td>yes</td>\n",
       "      <td>77</td>\n",
       "      <td>123</td>\n",
       "      <td>1</td>\n",
       "      <td>1</td>\n",
       "      <td>1</td>\n",
       "      <td>1</td>\n",
       "      <td>0</td>\n",
       "      <td>1</td>\n",
       "      <td>1</td>\n",
       "      <td>1</td>\n",
       "    </tr>\n",
       "    <tr>\n",
       "      <th>4</th>\n",
       "      <td>no</td>\n",
       "      <td>59</td>\n",
       "      <td>male</td>\n",
       "      <td>more</td>\n",
       "      <td>-0.737732</td>\n",
       "      <td>4.5</td>\n",
       "      <td>upper</td>\n",
       "      <td>yes</td>\n",
       "      <td>yes</td>\n",
       "      <td>17</td>\n",
       "      <td>20</td>\n",
       "      <td>2</td>\n",
       "      <td>0</td>\n",
       "      <td>0</td>\n",
       "      <td>0</td>\n",
       "      <td>0</td>\n",
       "      <td>1</td>\n",
       "      <td>1</td>\n",
       "      <td>1</td>\n",
       "    </tr>\n",
       "  </tbody>\n",
       "</table>\n",
       "</div>"
      ],
      "text/plain": [
       "  minority  age  gender credits    beauty  eval division native tenure  \\\n",
       "0      yes   36  female    more  0.289916   4.3    upper    yes    yes   \n",
       "1      yes   36  female    more  0.289916   3.7    upper    yes    yes   \n",
       "2      yes   36  female    more  0.289916   3.6    upper    yes    yes   \n",
       "3      yes   36  female    more  0.289916   4.4    upper    yes    yes   \n",
       "4       no   59    male    more -0.737732   4.5    upper    yes    yes   \n",
       "\n",
       "   students  allstudents  prof  PrimaryLast  vismin  female  single_credit  \\\n",
       "0        24           43     1            0       1       1              0   \n",
       "1        86          125     1            0       1       1              0   \n",
       "2        76          125     1            0       1       1              0   \n",
       "3        77          123     1            1       1       1              0   \n",
       "4        17           20     2            0       0       0              0   \n",
       "\n",
       "   upper_division  English_speaker  tenured_prof  \n",
       "0               1                1             1  \n",
       "1               1                1             1  \n",
       "2               1                1             1  \n",
       "3               1                1             1  \n",
       "4               1                1             1  "
      ]
     },
     "execution_count": 20,
     "metadata": {},
     "output_type": "execute_result"
    }
   ],
   "source": [
    "PATH = \"E:/Uni/Term 3 - Fall 1400/Statistics/Coding HWs/3/file.csv\"\n",
    "dataFrame = pd.read_csv(PATH)\n",
    "dataFrame = dataFrame.drop(['Unnamed: 0'], axis=1)\n",
    "dataFrame.head()"
   ]
  },
  {
   "cell_type": "code",
   "execution_count": 21,
   "id": "b2e70abe",
   "metadata": {},
   "outputs": [
    {
     "data": {
      "text/plain": [
       "(463, 19)"
      ]
     },
     "execution_count": 21,
     "metadata": {},
     "output_type": "execute_result"
    }
   ],
   "source": [
    "dataFrame.shape"
   ]
  },
  {
   "cell_type": "markdown",
   "id": "f8363c08",
   "metadata": {},
   "source": [
    " # Question 1"
   ]
  },
  {
   "cell_type": "code",
   "execution_count": 22,
   "id": "e2b24789",
   "metadata": {},
   "outputs": [
    {
     "name": "stdout",
     "output_type": "stream",
     "text": [
      "0.4572773913175306\n"
     ]
    }
   ],
   "source": [
    "eval_mean = round(dataFrame['eval'].mean(), 3)\n",
    "eval_sd = round(dataFrame['eval'].std(), 3)\n",
    "prob_grt = scipy.stats.norm.cdf((4.2 - eval_mean)/eval_sd) # Prob of greater than 4.2\n",
    "prob_less = scipy.stats.norm.cdf((3.5 - eval_mean)/eval_sd) # Prob of greater than 3.5\n",
    "print(prob_grt - prob_less) # Prob of greater than 3.5 and less than 4.2"
   ]
  },
  {
   "cell_type": "markdown",
   "id": "0106f32f",
   "metadata": {},
   "source": [
    "# Question 2"
   ]
  },
  {
   "cell_type": "code",
   "execution_count": 23,
   "id": "138e51c3",
   "metadata": {},
   "outputs": [
    {
     "name": "stdout",
     "output_type": "stream",
     "text": [
      "0.8957422041794154\n"
     ]
    }
   ],
   "source": [
    "eval_mean = round(dataFrame['eval'].mean(), 3)\n",
    "eval_sd = round(dataFrame['eval'].std(), 3)\n",
    "prob = scipy.stats.norm.cdf((3.3 - eval_mean)/eval_sd) # Prob of greater than 3.3\n",
    "print(1 - prob)"
   ]
  },
  {
   "cell_type": "markdown",
   "id": "c1e1c705",
   "metadata": {},
   "source": [
    "# Question 3"
   ]
  },
  {
   "cell_type": "code",
   "execution_count": 15,
   "id": "40bc7a84",
   "metadata": {},
   "outputs": [
    {
     "name": "stdout",
     "output_type": "stream",
     "text": [
      "0.03591369391246606\n"
     ]
    }
   ],
   "source": [
    "eval_mean = round(dataFrame['eval'].mean(), 3)\n",
    "eval_sd = round(dataFrame['eval'].std(), 3)\n",
    "prob_grt = scipy.stats.norm.cdf((3 - eval_mean)/eval_sd) # Prob of greater than 3\n",
    "prob_less = scipy.stats.norm.cdf((2 - eval_mean)/eval_sd) # Prob of greater than 2\n",
    "print(prob_grt - prob_less) # Prob of between 2 and 3"
   ]
  },
  {
   "cell_type": "markdown",
   "id": "37f35c1b",
   "metadata": {},
   "source": [
    "# Question 4"
   ]
  },
  {
   "cell_type": "code",
   "execution_count": 16,
   "id": "b2a8ddba",
   "metadata": {},
   "outputs": [
    {
     "name": "stdout",
     "output_type": "stream",
     "text": [
      "The score of Z-test is: 2.353393621658208\n"
     ]
    }
   ],
   "source": [
    "def Average(lst): # Calculate mean\n",
    "    return sum(lst) / len(lst) \n",
    "n = 12\n",
    "results = [116, 111, 101, 120, 99, 94, 106, 115, 107, 101, 110, 92]\n",
    "average = Average(results)\n",
    "stn_dev = statistics.stdev(results) # Calculate the standard deviation\n",
    "\n",
    "# H0\n",
    "z = (average - 100) / ( stn_dev / sqrt(n) )\n",
    "print(\"The score of Z-test is:\" , z)"
   ]
  },
  {
   "cell_type": "markdown",
   "id": "696fa7a0",
   "metadata": {},
   "source": [
    "# Question 5 - Poisson"
   ]
  },
  {
   "cell_type": "code",
   "execution_count": 17,
   "id": "17568419",
   "metadata": {},
   "outputs": [
    {
     "name": "stdout",
     "output_type": "stream",
     "text": [
      "Probability of 0 job: 0.1353352832366127\n",
      "Probability of exactly 2 jobs: 0.2706705664732254\n",
      "Probability of at most 3 arrivals: 0.857123460498547\n"
     ]
    }
   ],
   "source": [
    "from scipy.stats import poisson\n",
    "print(\"Probability of 0 job:\", poisson.cdf(k=0,mu=2))\n",
    "print(\"Probability of exactly 2 jobs:\", poisson.pmf(k=2,mu=2))\n",
    "print(\"Probability of at most 3 arrivals:\", poisson.cdf(k=3,mu=2))\n"
   ]
  },
  {
   "cell_type": "code",
   "execution_count": null,
   "id": "a8604aa3",
   "metadata": {},
   "outputs": [],
   "source": []
  }
 ],
 "metadata": {
  "kernelspec": {
   "display_name": "Python 3",
   "language": "python",
   "name": "python3"
  },
  "language_info": {
   "codemirror_mode": {
    "name": "ipython",
    "version": 3
   },
   "file_extension": ".py",
   "mimetype": "text/x-python",
   "name": "python",
   "nbconvert_exporter": "python",
   "pygments_lexer": "ipython3",
   "version": "3.8.8"
  }
 },
 "nbformat": 4,
 "nbformat_minor": 5
}