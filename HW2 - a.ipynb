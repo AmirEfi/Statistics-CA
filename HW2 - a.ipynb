{
 "cells": [
  {
   "cell_type": "markdown",
   "id": "15fa8d0b",
   "metadata": {},
   "source": [
    "# HW2"
   ]
  },
  {
   "cell_type": "markdown",
   "id": "c3ac69c8",
   "metadata": {},
   "source": [
    "# a : Binomial Distribution"
   ]
  },
  {
   "cell_type": "code",
   "execution_count": 1,
   "id": "89e5f66b",
   "metadata": {},
   "outputs": [],
   "source": [
    "import numpy as np\n",
    "import matplotlib.pyplot as plt\n",
    "import math"
   ]
  },
  {
   "cell_type": "code",
   "execution_count": 2,
   "id": "01a602c6",
   "metadata": {},
   "outputs": [
    {
     "data": {
      "image/png": "[encoded data removed]",
      "text/plain": [
       "<Figure size 432x288 with 1 Axes>"
      ]
     },
     "metadata": {
      "needs_background": "light"
     },
     "output_type": "display_data"
    }
   ],
   "source": [
    "# The number of trials in the binomial experiment\n",
    "n = 20\n",
    "# The probability of success on given trial\n",
    "p = 0.5\n",
    "\n",
    "\n",
    "def nCr(n,r):\n",
    "    f = math.factorial\n",
    "    return f(n) / f(r) / f(n-r)\n",
    "\n",
    "def binomial_distribution(n , k , p):\n",
    "    return nCr(n,k) * p**k * (1 - p)**(n-k)\n",
    "    \n",
    "    \n",
    "    \n",
    "\n",
    "x = [i for i in range(n + 1)]\n",
    "y = [binomial_distribution(n, k = i, p = 0.5) for i in x]\n",
    "\n",
    "plt.bar(x,y)\n",
    "plt.show()\n",
    "\n",
    "\n"
   ]
  },
  {
   "cell_type": "code",
   "execution_count": null,
   "id": "e5ac9586",
   "metadata": {},
   "outputs": [],
   "source": []
  }
 ],
 "metadata": {
  "kernelspec": {
   "display_name": "Python 3",
   "language": "python",
   "name": "python3"
  },
  "language_info": {
   "codemirror_mode": {
    "name": "ipython",
    "version": 3
   },
   "file_extension": ".py",
   "mimetype": "text/x-python",
   "name": "python",
   "nbconvert_exporter": "python",
   "pygments_lexer": "ipython3",
   "version": "3.8.8"
  }
 },
 "nbformat": 4,
 "nbformat_minor": 5
}
